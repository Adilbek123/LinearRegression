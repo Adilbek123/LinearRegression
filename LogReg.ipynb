{
 "cells": [
  {
   "cell_type": "code",
   "execution_count": null,
   "id": "ff8b288f",
   "metadata": {},
   "outputs": [],
   "source": [
    "import numpy as np\n",
    "import pandas as pd\n",
    "\n",
    "class LogisticRegression:\n",
    "    def __init__(self, learning_rate=0.01, num_iterations=1000, penalty=None):\n",
    "        self.learning_rate = learning_rate\n",
    "        self.num_iterations = num_iterations\n",
    "        self.penalty = penalty\n",
    "        self.coef_ = None\n",
    "        self.intercept_ = None\n",
    "    \n",
    "    def fit(self, X, y, *args, **kwargs):\n",
    "        X, y = check_X_y(X, y) #todo\n",
    "        \n",
    "        def sigmoid(z):\n",
    "            return 1/(1 + np.exp(-z))\n",
    "        \n",
    "        def loss(y, y_hat):\n",
    "            loss = -np.mean(y*(np.log(y_hat)) - (1-y)*np.log(1-y_hat))\n",
    "            return loss\n",
    "        \n",
    "        def gradient_descent(gradient, start, learning_rate, num_iterations, tolerance=1e-06):\n",
    "            vector = start\n",
    "            for _ in range(num_iterations):\n",
    "                diff = -learning_rate * gradient(vector)\n",
    "                if np.all(np.abs(diff) <= tolerance):\n",
    "                    break\n",
    "                vector += diff\n",
    "            return vector\n",
    "    \n",
    "    def predict(self, X, *args, **kwargs):\n",
    "        pass\n",
    "    \n",
    "    def predict_proba(self, X, *args, **kwargs):\n",
    "        pass\n"
   ]
  }
 ],
 "metadata": {
  "kernelspec": {
   "display_name": "Python 3 (ipykernel)",
   "language": "python",
   "name": "python3"
  },
  "language_info": {
   "codemirror_mode": {
    "name": "ipython",
    "version": 3
   },
   "file_extension": ".py",
   "mimetype": "text/x-python",
   "name": "python",
   "nbconvert_exporter": "python",
   "pygments_lexer": "ipython3",
   "version": "3.9.7"
  }
 },
 "nbformat": 4,
 "nbformat_minor": 5
}
