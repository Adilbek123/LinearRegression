{
 "cells": [
  {
   "cell_type": "code",
   "execution_count": null,
   "id": "ff8b288f",
   "metadata": {},
   "outputs": [],
   "source": [
    "import numpy as np\n",
    "import pandas as pd\n",
    "\n",
    "class LogisticRegression:\n",
    "    def __init__(self, learning_rate=0.01, num_iterations=1000, penalty=None):\n",
    "        self.learning_rate = learning_rate\n",
    "        self.num_iterations = num_iterations\n",
    "        self.penalty = penalty\n",
    "        self.coef_ = None\n",
    "        self.intercept_ = None\n",
    "\n",
    "    \n",
    "    def fit(self, X, y, *args, **kwargs):\n",
    "        #initialize parameters\n",
    "        self.coef_ = np.zeros(X.shape[1])\n",
    "        self.intercept_ = 0\n",
    "\n",
    "        # Perform gradient descent\n",
    "        for _ in range(self.num_iterations):\n",
    "            # Calculate current predictions\n",
    "            linear_model = np.dot(X, self.coef_) + self.intercept_\n",
    "            y_pred = 1/(1+np.exp(-linear_model))\n",
    "\n",
    "            # Calculate gradients\n",
    "            dw = (1 / len(X)) * np.dot(X.T, (y_pred - y))\n",
    "            db = (1 / len(X)) * np.sum(y_pred - y)\n",
    "\n",
    "            # Update parameters\n",
    "            self.coef_ -= self.learning_rate * dw\n",
    "            self.intercept_ -= self.learning_rate * db    \n",
    "            \n",
    "    def predict(self, X):\n",
    "        # Calculate the raw model output\n",
    "        linear_model = np.dot(X, self.coef_) + self.intercept_\n",
    "\n",
    "        # Apply the sigmoid function\n",
    "        y_pred = 1/(1+np.exp(-linear_model))\n",
    "\n",
    "        # Convert probabilities to class labels\n",
    "        y_pred_labels = [1 if elem >= 0.5 else 0 for elem in y_pred]\n",
    "\n",
    "        return np.array(y_pred_labels)\n",
    "    \n",
    "    def predict_proba(self, X, *args, **kwargs):\n",
    "        # Calculate the raw model output\n",
    "        linear_model = np.dot(X, self.coef_) + self.intercept_\n",
    "\n",
    "        # Apply the sigmoid function\n",
    "        y_pred = 1/(1+np.exp(-linear_model))\n",
    "\n",
    "        return y_pred"
   ]
  }
 ],
 "metadata": {
  "kernelspec": {
   "display_name": "Python 3 (ipykernel)",
   "language": "python",
   "name": "python3"
  },
  "language_info": {
   "codemirror_mode": {
    "name": "ipython",
    "version": 3
   },
   "file_extension": ".py",
   "mimetype": "text/x-python",
   "name": "python",
   "nbconvert_exporter": "python",
   "pygments_lexer": "ipython3",
   "version": "3.9.7"
  }
 },
 "nbformat": 4,
 "nbformat_minor": 5
}
